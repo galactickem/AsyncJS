{
  "nbformat": 4,
  "nbformat_minor": 0,
  "metadata": {
    "colab": {
      "provenance": [],
      "include_colab_link": true
    },
    "kernelspec": {
      "name": "python3",
      "display_name": "Python 3"
    },
    "language_info": {
      "name": "python"
    }
  },
  "cells": [
    {
      "cell_type": "markdown",
      "metadata": {
        "id": "view-in-github",
        "colab_type": "text"
      },
      "source": [
        "<a href=\"https://colab.research.google.com/github/kerimtaray/AsyncJS/blob/main/bacltracking_grupoLunes.ipynb\" target=\"_parent\"><img src=\"https://colab.research.google.com/assets/colab-badge.svg\" alt=\"Open In Colab\"/></a>"
      ]
    },
    {
      "cell_type": "markdown",
      "source": [
        "#Imports\n",
        "Importa una libreria para la fila: queue\n",
        "\n",
        "Importa una libreria para hacer copias de objetos: copy"
      ],
      "metadata": {
        "id": "Vt40PjqElysD"
      }
    },
    {
      "cell_type": "code",
      "execution_count": null,
      "metadata": {
        "id": "cUrjCuPjlrdf"
      },
      "outputs": [],
      "source": [
        "#imports aqui\n",
        "import queue\n",
        "import copy\n"
      ]
    },
    {
      "cell_type": "markdown",
      "source": [
        "# Clases y funciones\n",
        "\n",
        "Crea una clase para representar a las soluciones como objetos.\n",
        "\n",
        "Define sus atributos, e incluye una funcion que encuentre la primer variable indefinida.\n",
        "\n",
        "Como atributos, deberia tener la solucion y cuanto suma"
      ],
      "metadata": {
        "id": "I-6SyqZ2mC0O"
      }
    },
    {
      "cell_type": "code",
      "source": [
        "#¿Que necesitas conocer por cada sol? Su arreglo de binarios y cuanto suma\n",
        "class Partial_Sol:\n",
        "  def __init__(self, lista, suma):\n",
        "      self.lista = lista\n",
        "      self.suma = suma\n",
        "\n",
        "  # Una funcion que encuentre el indice i de la primer variable indefinida de una sol...\n",
        "  # Un -1 inidica que una variable esta indefinida...\n",
        "  # Que pasa si no hay -1's?\n",
        "  def primer_indefinido(self):\n",
        "\n",
        "    if -1 in self.lista:\n",
        "      i = self.lista.index(-1)\n",
        "      return i\n",
        "    else:\n",
        "      return -1\n"
      ],
      "metadata": {
        "id": "VmQC4hAJl_zV"
      },
      "execution_count": null,
      "outputs": []
    },
    {
      "cell_type": "markdown",
      "source": [
        "Crea una funcion que extienda soluciones: es decir, que reciba una solucion, y devuelva a sus hijas.\n",
        "\n",
        "Debe haber una hija por cada valor en el dominio de la primer variable indefinida. Si el dominio es 0 y 1 ¿cuantas hijas son?\n",
        "\n",
        "\n",
        "\n"
      ],
      "metadata": {
        "id": "2FCkUV6XmpT5"
      }
    },
    {
      "cell_type": "code",
      "source": [
        "def extend(solPadre, index, c):\n",
        "  #Inicia por crear las hijas como copias (funcion deepcopy).\n",
        "  hija1 = copy.deepcopy(solPadre)\n",
        "  hija2 = copy.deepcopy(solPadre)\n",
        "\n",
        "  # Dale valores a la variable indefinida de cada hija\n",
        "  hija1.lista[index] = 0\n",
        "  hija2.lista[index] = 1\n",
        "\n",
        "  # Actualiza cuanto suma cada hija. Necesistas el valor del i-th elemento del conjunto\n",
        "  hija2.suma += c\n",
        "\n",
        "  # Regresa a las hijas. Seria comodo si fuesen una lista.\n",
        "  return [hija1, hija2]\n"
      ],
      "metadata": {
        "id": "nkQ8Ys6lnAei"
      },
      "execution_count": null,
      "outputs": []
    },
    {
      "cell_type": "markdown",
      "source": [
        "# La seccion principal\n",
        "\n",
        "Describe la instancia del problema:\n",
        "el conjunto, el valor de n y la suma esperada d"
      ],
      "metadata": {
        "id": "q29E7PnknA86"
      }
    },
    {
      "cell_type": "code",
      "source": [
        "conjunto = [1, 2, 5, 6, 8]\n",
        "\n",
        "d = 9\n",
        "\n",
        "n = len(conjunto)"
      ],
      "metadata": {
        "id": "kJbI2G5FpbQp"
      },
      "execution_count": null,
      "outputs": []
    },
    {
      "cell_type": "code",
      "source": [],
      "metadata": {
        "id": "Vd0q6M8kJFDv"
      },
      "execution_count": null,
      "outputs": []
    },
    {
      "cell_type": "markdown",
      "source": [
        "Crea una sol inicial que sera la raiz.\n",
        "\n",
        "Puede ser una lista de n elementos en -1 (-1 indica que una variable esta indefinida)  ¿Cuanto suma esa solucion inicial?\n"
      ],
      "metadata": {
        "id": "AcOUbNDdnIwS"
      }
    },
    {
      "cell_type": "code",
      "source": [
        "\n",
        "root_sol = Partial_Sol([-1 for x in range(n)], 0)\n",
        "\n"
      ],
      "metadata": {
        "id": "xyh6D6fzpcUq"
      },
      "execution_count": null,
      "outputs": []
    },
    {
      "cell_type": "markdown",
      "source": [
        "Crea la fila y agrega la sol inicial usando la funcion put de la queue"
      ],
      "metadata": {
        "id": "jJa_UgPgnRnz"
      }
    },
    {
      "cell_type": "code",
      "source": [
        "q = queue.Queue()\n",
        "\n",
        "\n"
      ],
      "metadata": {
        "id": "noHRks32pdWp"
      },
      "execution_count": null,
      "outputs": []
    },
    {
      "cell_type": "markdown",
      "source": [
        "#el ciclo de backtracking\n",
        "Crea un while que continue mientras la fila no este vacia..."
      ],
      "metadata": {
        "id": "iufXgowYnUlb"
      }
    },
    {
      "cell_type": "code",
      "source": [
        "q.put(root_sol)\n",
        "while not q.empty() :\n",
        "\n",
        "  # Saca una solucion de la fila (funcion get)\n",
        "  sol_partial = q.get()\n",
        "  # Averigua el indice i-th de la primer variable indefinida en esa solucion\n",
        "  i = sol_partial.primer_indefinido()\n",
        "  if i != -1:\n",
        "\n",
        "  # Obten a las soluciones hijas\n",
        "    #print(i)\n",
        "    hijas = extend(sol_partial, i, conjunto[i])\n",
        "\n",
        "  # por cada hija verifica si es valida: lo es si no suma mas que d\n",
        "  # y si es valida, agregala a la pila\n",
        "    for h in hijas:\n",
        "      if h.suma < d:\n",
        "        q.put(h)\n",
        "\n",
        "  # si una solucion hija suma d, es la solucion buscada. Muestrala.\n",
        "      if h.suma == d:\n",
        "        print(h.lista)\n",
        "\n"
      ],
      "metadata": {
        "id": "p2Cew0hypeJB",
        "colab": {
          "base_uri": "https://localhost:8080/"
        },
        "outputId": "2aea607a-1724-48d3-b177-3cd16f4370d8"
      },
      "execution_count": null,
      "outputs": [
        {
          "output_type": "stream",
          "name": "stdout",
          "text": [
            "[1, 1, 0, 1, -1]\n",
            "[1, 0, 0, 0, 1]\n"
          ]
        }
      ]
    },
    {
      "cell_type": "markdown",
      "source": [],
      "metadata": {
        "id": "xNduS2vjlvk8"
      }
    }
  ]
}